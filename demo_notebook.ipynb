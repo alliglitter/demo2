{
 "cells": [
  {
   "cell_type": "markdown",
   "id": "dd71ba39-8a23-4f54-a884-a8f2306150a4",
   "metadata": {},
   "source": [
    "# This is a demo\n",
    "\n",
    "Here's a demo notebook"
   ]
  },
  {
   "cell_type": "code",
   "execution_count": 1,
   "id": "523dc6c0-198f-4c25-a952-6df0ed86e0e9",
   "metadata": {
    "tags": []
   },
   "outputs": [],
   "source": [
    "import pandas as pd"
   ]
  },
  {
   "cell_type": "code",
   "execution_count": null,
   "id": "1551ff21-016a-4b10-81ce-0e9b7e1715df",
   "metadata": {},
   "outputs": [],
   "source": []
  }
 ],
 "metadata": {
  "kernelspec": {
   "display_name": "UFRC Python-3.10",
   "language": "python",
   "name": "python3-3.10-ufrc"
  },
  "language_info": {
   "codemirror_mode": {
    "name": "ipython",
    "version": 3
   },
   "file_extension": ".py",
   "mimetype": "text/x-python",
   "name": "python",
   "nbconvert_exporter": "python",
   "pygments_lexer": "ipython3",
   "version": "3.10.8"
  }
 },
 "nbformat": 4,
 "nbformat_minor": 5
}
